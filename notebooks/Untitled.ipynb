{
 "cells": [
  {
   "cell_type": "code",
   "execution_count": 1,
   "id": "7a99e98a",
   "metadata": {},
   "outputs": [],
   "source": [
    "import pandas as pd\n",
    "import numpy as np"
   ]
  },
  {
   "cell_type": "code",
   "execution_count": 2,
   "id": "0ef341a3",
   "metadata": {},
   "outputs": [],
   "source": [
    "ccj = pd.read_csv('../data/01 raw/candidate_current_jobs.csv') # candidate current jobs"
   ]
  },
  {
   "cell_type": "code",
   "execution_count": 3,
   "id": "f8a3cd64",
   "metadata": {},
   "outputs": [],
   "source": [
    "cpj = pd.read_csv('../data/01 raw/candidate_past_jobs.csv') # candidate past jobs"
   ]
  },
  {
   "cell_type": "code",
   "execution_count": 4,
   "id": "0ef90a35",
   "metadata": {},
   "outputs": [],
   "source": [
    "cdt = pd.read_csv('../data/01 raw/candidates.csv') # candidates"
   ]
  },
  {
   "cell_type": "code",
   "execution_count": 5,
   "id": "bd5db5e9",
   "metadata": {},
   "outputs": [],
   "source": [
    "edu = pd.read_csv('../data/01 raw/education.csv') # education"
   ]
  },
  {
   "cell_type": "code",
   "execution_count": 6,
   "id": "7950b16c",
   "metadata": {},
   "outputs": [],
   "source": [
    "job = pd.read_csv('../data/01 raw/jobs.csv') # jobs"
   ]
  },
  {
   "cell_type": "markdown",
   "id": "1feab04e",
   "metadata": {},
   "source": [
    "## cleaning"
   ]
  },
  {
   "cell_type": "code",
   "execution_count": 12,
   "id": "d2c8baa1",
   "metadata": {},
   "outputs": [
    {
     "data": {
      "text/html": [
       "<div>\n",
       "<style scoped>\n",
       "    .dataframe tbody tr th:only-of-type {\n",
       "        vertical-align: middle;\n",
       "    }\n",
       "\n",
       "    .dataframe tbody tr th {\n",
       "        vertical-align: top;\n",
       "    }\n",
       "\n",
       "    .dataframe thead th {\n",
       "        text-align: right;\n",
       "    }\n",
       "</style>\n",
       "<table border=\"1\" class=\"dataframe\">\n",
       "  <thead>\n",
       "    <tr style=\"text-align: right;\">\n",
       "      <th></th>\n",
       "      <th>candidate_id</th>\n",
       "      <th>title</th>\n",
       "      <th>location</th>\n",
       "      <th>hire_flag</th>\n",
       "    </tr>\n",
       "  </thead>\n",
       "  <tbody>\n",
       "    <tr>\n",
       "      <th>0</th>\n",
       "      <td>2649</td>\n",
       "      <td>senior system integration engineer en telecom ...</td>\n",
       "      <td>Florida Oeste, Buenos Aires, Argentina</td>\n",
       "      <td>0</td>\n",
       "    </tr>\n",
       "    <tr>\n",
       "      <th>1</th>\n",
       "      <td>2650</td>\n",
       "      <td>senior collections analyst en the adecco group</td>\n",
       "      <td>San Nicolás, City of Buenos Aires, Argentina</td>\n",
       "      <td>0</td>\n",
       "    </tr>\n",
       "    <tr>\n",
       "      <th>2</th>\n",
       "      <td>2651</td>\n",
       "      <td>sr integration &amp; api support engineer at sales...</td>\n",
       "      <td>Flores, City of Buenos Aires, Argentina</td>\n",
       "      <td>0</td>\n",
       "    </tr>\n",
       "    <tr>\n",
       "      <th>3</th>\n",
       "      <td>2652</td>\n",
       "      <td>*</td>\n",
       "      <td>Barracas, City of Buenos Aires, Argentina</td>\n",
       "      <td>0</td>\n",
       "    </tr>\n",
       "    <tr>\n",
       "      <th>4</th>\n",
       "      <td>2653</td>\n",
       "      <td>customer support specialist</td>\n",
       "      <td>Martínez, Buenos Aires, Argentina</td>\n",
       "      <td>1</td>\n",
       "    </tr>\n",
       "    <tr>\n",
       "      <th>...</th>\n",
       "      <td>...</td>\n",
       "      <td>...</td>\n",
       "      <td>...</td>\n",
       "      <td>...</td>\n",
       "    </tr>\n",
       "    <tr>\n",
       "      <th>1995</th>\n",
       "      <td>15663</td>\n",
       "      <td>software engineer at google</td>\n",
       "      <td>Warsaw, Mazowieckie, Poland</td>\n",
       "      <td>0</td>\n",
       "    </tr>\n",
       "    <tr>\n",
       "      <th>1996</th>\n",
       "      <td>5542</td>\n",
       "      <td>diseñador de interfaz web en aprende institute</td>\n",
       "      <td>Azcapotzalco, Mexico City, Mexico</td>\n",
       "      <td>0</td>\n",
       "    </tr>\n",
       "    <tr>\n",
       "      <th>1997</th>\n",
       "      <td>18285</td>\n",
       "      <td>senior software engineering na fullstack labs</td>\n",
       "      <td>Goiânia, Goiás, Brazil</td>\n",
       "      <td>0</td>\n",
       "    </tr>\n",
       "    <tr>\n",
       "      <th>1998</th>\n",
       "      <td>12584</td>\n",
       "      <td>frontend programmer / unity 3d developer</td>\n",
       "      <td>Guadalajara, Jalisco, Mexico</td>\n",
       "      <td>0</td>\n",
       "    </tr>\n",
       "    <tr>\n",
       "      <th>1999</th>\n",
       "      <td>6018</td>\n",
       "      <td>software engineer en cognizant</td>\n",
       "      <td>Cordoba, Córdoba, Argentina</td>\n",
       "      <td>0</td>\n",
       "    </tr>\n",
       "  </tbody>\n",
       "</table>\n",
       "<p>2000 rows × 4 columns</p>\n",
       "</div>"
      ],
      "text/plain": [
       "      candidate_id                                              title  \\\n",
       "0             2649  senior system integration engineer en telecom ...   \n",
       "1             2650     senior collections analyst en the adecco group   \n",
       "2             2651  sr integration & api support engineer at sales...   \n",
       "3             2652                                                  *   \n",
       "4             2653                        customer support specialist   \n",
       "...            ...                                                ...   \n",
       "1995         15663                        software engineer at google   \n",
       "1996          5542     diseñador de interfaz web en aprende institute   \n",
       "1997         18285      senior software engineering na fullstack labs   \n",
       "1998         12584           frontend programmer / unity 3d developer   \n",
       "1999          6018                     software engineer en cognizant   \n",
       "\n",
       "                                          location  hire_flag  \n",
       "0           Florida Oeste, Buenos Aires, Argentina          0  \n",
       "1     San Nicolás, City of Buenos Aires, Argentina          0  \n",
       "2          Flores, City of Buenos Aires, Argentina          0  \n",
       "3        Barracas, City of Buenos Aires, Argentina          0  \n",
       "4                Martínez, Buenos Aires, Argentina          1  \n",
       "...                                            ...        ...  \n",
       "1995                  Warsaw, Mazowieckie, Poland           0  \n",
       "1996             Azcapotzalco, Mexico City, Mexico          0  \n",
       "1997                        Goiânia, Goiás, Brazil          0  \n",
       "1998                  Guadalajara, Jalisco, Mexico          0  \n",
       "1999                   Cordoba, Córdoba, Argentina          0  \n",
       "\n",
       "[2000 rows x 4 columns]"
      ]
     },
     "execution_count": 12,
     "metadata": {},
     "output_type": "execute_result"
    }
   ],
   "source": [
    "cdt"
   ]
  },
  {
   "cell_type": "code",
   "execution_count": 11,
   "id": "d48e6510",
   "metadata": {},
   "outputs": [],
   "source": [
    "cdt.title = cdt.title.str.lower()"
   ]
  },
  {
   "cell_type": "code",
   "execution_count": null,
   "id": "0d6f4408",
   "metadata": {},
   "outputs": [],
   "source": [
    "def country(x):\n",
    "    if x.str."
   ]
  },
  {
   "cell_type": "code",
   "execution_count": null,
   "id": "80d22483",
   "metadata": {},
   "outputs": [],
   "source": []
  }
 ],
 "metadata": {
  "kernelspec": {
   "display_name": "Python 3 (ipykernel)",
   "language": "python",
   "name": "python3"
  },
  "language_info": {
   "codemirror_mode": {
    "name": "ipython",
    "version": 3
   },
   "file_extension": ".py",
   "mimetype": "text/x-python",
   "name": "python",
   "nbconvert_exporter": "python",
   "pygments_lexer": "ipython3",
   "version": "3.8.13"
  }
 },
 "nbformat": 4,
 "nbformat_minor": 5
}
